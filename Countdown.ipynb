{
 "cells": [
  {
   "cell_type": "code",
   "execution_count": 1,
   "metadata": {},
   "outputs": [],
   "source": [
    "from countdown import *"
   ]
  },
  {
   "cell_type": "code",
   "execution_count": 2,
   "metadata": {},
   "outputs": [],
   "source": [
    "words = Words()"
   ]
  },
  {
   "cell_type": "code",
   "execution_count": 3,
   "metadata": {},
   "outputs": [],
   "source": [
    "c = Solve('SALIEOROD')"
   ]
  },
  {
   "cell_type": "code",
   "execution_count": 4,
   "metadata": {},
   "outputs": [
    {
     "data": {
      "text/plain": [
       "[('darioles', 8),\n",
       " ('ooralis', 7),\n",
       " ('isolead', 7),\n",
       " ('orioles', 7),\n",
       " ('roseola', 7),\n",
       " ('loaders', 7),\n",
       " ('redials', 7),\n",
       " ('oroides', 7),\n",
       " ('solider', 7),\n",
       " ('dialers', 7),\n",
       " ('soldier', 7),\n",
       " ('dariole', 7),\n",
       " ('aerosol', 7),\n",
       " ('ordeals', 7),\n",
       " ('reloads', 7),\n",
       " ('roadies', 7),\n",
       " ('doolies', 7),\n",
       " ('derails', 7),\n",
       " ('roadeos', 7),\n",
       " ('roadie', 6)]"
      ]
     },
     "execution_count": 4,
     "metadata": {},
     "output_type": "execute_result"
    }
   ],
   "source": [
    "c.top(20)"
   ]
  },
  {
   "cell_type": "code",
   "execution_count": 5,
   "metadata": {},
   "outputs": [
    {
     "data": {
      "text/plain": [
       "[('ling', 1082),\n",
       " ('ting', 1064),\n",
       " ('iest', 976),\n",
       " ('ring', 753),\n",
       " ('ings', 738),\n",
       " ('able', 689),\n",
       " ('ness', 686),\n",
       " ('over', 680),\n",
       " ('ters', 655),\n",
       " ('ines', 644)]"
      ]
     },
     "execution_count": 5,
     "metadata": {},
     "output_type": "execute_result"
    }
   ],
   "source": [
    "words.chunks.most_common(4, 10)"
   ]
  },
  {
   "cell_type": "code",
   "execution_count": null,
   "metadata": {},
   "outputs": [],
   "source": []
  }
 ],
 "metadata": {
  "kernelspec": {
   "display_name": "Python 3",
   "language": "python",
   "name": "python3"
  },
  "language_info": {
   "codemirror_mode": {
    "name": "ipython",
    "version": 3
   },
   "file_extension": ".py",
   "mimetype": "text/x-python",
   "name": "python",
   "nbconvert_exporter": "python",
   "pygments_lexer": "ipython3",
   "version": "3.7.3"
  }
 },
 "nbformat": 4,
 "nbformat_minor": 2
}
